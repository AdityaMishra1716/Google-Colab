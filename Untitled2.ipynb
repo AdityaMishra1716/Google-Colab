{
  "nbformat": 4,
  "nbformat_minor": 0,
  "metadata": {
    "colab": {
      "provenance": [],
      "authorship_tag": "ABX9TyMeqqkcihbgHiY2JMGV1NwY",
      "include_colab_link": true
    },
    "kernelspec": {
      "name": "python3",
      "display_name": "Python 3"
    },
    "language_info": {
      "name": "python"
    }
  },
  "cells": [
    {
      "cell_type": "markdown",
      "metadata": {
        "id": "view-in-github",
        "colab_type": "text"
      },
      "source": [
        "<a href=\"https://colab.research.google.com/github/AdityaMishra1716/Google-Colab/blob/majumdar/Untitled2.ipynb\" target=\"_parent\"><img src=\"https://colab.research.google.com/assets/colab-badge.svg\" alt=\"Open In Colab\"/></a>"
      ]
    },
    {
      "cell_type": "code",
      "execution_count": 1,
      "metadata": {
        "id": "1wT9fI6XNQuF"
      },
      "outputs": [],
      "source": [
        "a = \"land\""
      ]
    },
    {
      "cell_type": "code",
      "source": [
        "print(\"ashish chutiya hai\")"
      ],
      "metadata": {
        "colab": {
          "base_uri": "https://localhost:8080/"
        },
        "id": "FyzQeuaMNU-x",
        "outputId": "c475850a-4db8-4cf1-a0b8-8b6692f9fb0b"
      },
      "execution_count": 2,
      "outputs": [
        {
          "output_type": "stream",
          "name": "stdout",
          "text": [
            "ashish chutiya hai\n"
          ]
        }
      ]
    },
    {
      "cell_type": "code",
      "source": [],
      "metadata": {
        "id": "dKJOPwhpNbbO"
      },
      "execution_count": null,
      "outputs": []
    }
  ]
}