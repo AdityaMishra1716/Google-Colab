{
  "cells": [
    {
      "cell_type": "code",
      "execution_count": 1,
      "id": "c11c7e39-7ce6-4e06-b950-5d89d90b7509",
      "metadata": {
        "id": "c11c7e39-7ce6-4e06-b950-5d89d90b7509",
        "outputId": "179d4d27-1c11-4516-d2b3-8bf2fc63b3a1",
        "colab": {
          "base_uri": "https://localhost:8080/"
        }
      },
      "outputs": [
        {
          "output_type": "stream",
          "name": "stdout",
          "text": [
            "help\\o\n"
          ]
        }
      ],
      "source": [
        "print (\"help\\o\")"
      ]
    }
  ],
  "metadata": {
    "kernelspec": {
      "display_name": "Python 3 (ipykernel)",
      "language": "python",
      "name": "python3"
    },
    "language_info": {
      "codemirror_mode": {
        "name": "ipython",
        "version": 3
      },
      "file_extension": ".py",
      "mimetype": "text/x-python",
      "name": "python",
      "nbconvert_exporter": "python",
      "pygments_lexer": "ipython3",
      "version": "3.8.10"
    },
    "colab": {
      "provenance": []
    }
  },
  "nbformat": 4,
  "nbformat_minor": 5
}